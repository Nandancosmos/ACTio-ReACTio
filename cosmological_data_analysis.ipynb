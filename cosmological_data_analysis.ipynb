{
  "nbformat": 4,
  "nbformat_minor": 0,
  "metadata": {
    "colab": {
      "provenance": [],
      "mount_file_id": "1vsZlMJqqQpMgxdu_VUqCgnHNn8Ypw35w",
      "authorship_tag": "ABX9TyN4t3zX8r0OVxDxKz8JEH3w",
      "include_colab_link": true
    },
    "kernelspec": {
      "name": "python3",
      "display_name": "Python 3"
    },
    "language_info": {
      "name": "python"
    }
  },
  "cells": [
    {
      "cell_type": "markdown",
      "metadata": {
        "id": "view-in-github",
        "colab_type": "text"
      },
      "source": [
        "<a href=\"https://colab.research.google.com/github/Nandancosmos/ACTio-ReACTio/blob/master/cosmological_data_analysis.ipynb\" target=\"_parent\"><img src=\"https://colab.research.google.com/assets/colab-badge.svg\" alt=\"Open In Colab\"/></a>"
      ]
    },
    {
      "cell_type": "markdown",
      "source": [
        "Cosmological Code"
      ],
      "metadata": {
        "id": "cqzF6sC5fwxW"
      }
    },
    {
      "cell_type": "code",
      "source": [
        "import os\n",
        "os.environ[\"OMP_NUM_THREADS\"] = \"1\"\n",
        "import numpy as np\n",
        "import matplotlib.pyplot as plt\n",
        "import corner\n",
        "from scipy.integrate import quad\n",
        "from scipy.integrate import solve_ivp\n",
        "from scipy.interpolate import interp1d\n",
        "from matplotlib import rc\n",
        "plt.rcParams.update({'font.size': 12})\n",
        "from multiprocessing import Pool, cpu_count\n",
        "import emcee\n",
        "from tqdm import tqdm\n",
        "import getdist\n",
        "from getdist import plots, MCSamples\n",
        "import scipy.linalg as la"
      ],
      "metadata": {
        "id": "kLm2cAlwf2XP"
      },
      "execution_count": 7,
      "outputs": []
    },
    {
      "cell_type": "markdown",
      "source": [
        "# Manage the Pantheon data"
      ],
      "metadata": {
        "id": "FBeMB649hArn"
      }
    },
    {
      "cell_type": "code",
      "source": [
        "# Load data from file\n",
        "z, mu, mu_err = np.loadtxt('/content/Pantheon+SH0ES.dat', usecols=(2, 10, 11), unpack=True, skiprows=1)\n",
        "\n",
        "# Write data to another file\n",
        "with open('pantheon_data_M.txt', 'w') as file:\n",
        "    for i in range(len(z)):\n",
        "        file.write(f\"{z[i]} {mu[i]} {mu_err[i]}\\n\")"
      ],
      "metadata": {
        "id": "O807TyvhgUe5"
      },
      "execution_count": 10,
      "outputs": []
    },
    {
      "cell_type": "code",
      "source": [],
      "metadata": {
        "id": "Joy3KMkbghAW"
      },
      "execution_count": null,
      "outputs": []
    }
  ]
}