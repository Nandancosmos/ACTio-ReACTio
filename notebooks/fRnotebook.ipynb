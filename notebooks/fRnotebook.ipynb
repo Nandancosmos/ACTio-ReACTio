{
 "cells": [
  {
   "cell_type": "markdown",
   "id": "8e6056a2",
   "metadata": {},
   "source": [
    "# f(R) gravity with ReACT and ACTio-ReACTio"
   ]
  },
  {
   "cell_type": "markdown",
   "id": "54c01c45",
   "metadata": {},
   "source": [
    "Firstly, we compute f(R) reaction function for $z = 1$ with ReACT"
   ]
  },
  {
   "cell_type": "code",
   "execution_count": 1,
   "id": "aee3c39d",
   "metadata": {},
   "outputs": [],
   "source": [
    "import numpy as np\n",
    "import camb\n",
    "\n",
    "%matplotlib inline\n",
    "import matplotlib.pyplot as plt\n",
    "\n",
    "import pyreact"
   ]
  },
  {
   "cell_type": "markdown",
   "id": "7a9f2f55",
   "metadata": {},
   "source": [
    "Set the cosmology and let CAMB compute the linear power spectrum."
   ]
  },
  {
   "cell_type": "code",
   "execution_count": 2,
   "id": "73cbd216",
   "metadata": {},
   "outputs": [],
   "source": [
    "Omega_c = 0.25\n",
    "Omega_b = 0.05\n",
    "h = 0.7\n",
    "n_s = 0.97\n",
    "A_s = 2.1e-9\n",
    "m_nu = 0.0\n",
    "w0 = -1.0\n",
    "w_a = 0.0\n",
    "\n",
    "p = camb.CAMBparams(WantTransfer=True, \n",
    "                    Want_CMB=False, Want_CMB_lensing=False, DoLensing=False, \n",
    "                    NonLinear=\"NonLinear_none\",\n",
    "                    WantTensors=False, WantVectors=False, WantCls=False, WantDerivedParameters=False,\n",
    "                    want_zdrag=False, want_zstar=False)\n",
    "    \n",
    "p.set_cosmology(H0=h*100, ombh2=Omega_b*h**2, omch2=Omega_c*h**2, omk=0, mnu=m_nu)\n",
    "p.set_initial_power(camb.initialpower.InitialPowerLaw(As=A_s, ns=n_s))\n",
    "p.set_dark_energy(w=w0,wa=w_a)\n",
    "\n",
    "#print(np.linspace(0.0, 10.0, 64, endpoint=True)[::-1])\n",
    "p.set_matter_power(redshifts=np.linspace(0.0, 1.0, 4, endpoint=True)[::-1],\n",
    "                   kmax=10.0, nonlinear=False)\n",
    "\n",
    "\n",
    "r = camb.get_results(p)\n",
    "sigma_8 = r.get_sigma8()[-1]\n",
    "k_lin, z_lin, pofk_lin_camb = r.get_matter_power_spectrum(minkh=1e-4, maxkh=10.0, npoints=128)\n",
    "\n",
    "Omega_v = r.omega_de + r.get_Omega(\"photon\") + r.get_Omega(\"neutrino\")\n",
    "Omega_m = p.omegam"
   ]
  },
  {
   "cell_type": "markdown",
   "id": "8b932cf0",
   "metadata": {},
   "source": [
    "Now run ReACT to get the reaction and the modified gravity linear power spectrum ('pseudo')"
   ]
  },
  {
   "cell_type": "code",
   "execution_count": 3,
   "id": "b3aa0257",
   "metadata": {},
   "outputs": [
    {
     "name": "stdout",
     "output_type": "stream",
     "text": [
      "[0.         0.33333333 0.66666667 1.        ]\n"
     ]
    }
   ],
   "source": [
    "# Model selection and parameter (gr,f(r),dgp,quintessence or cpl)\n",
    "mymodel = \"f(R)\"\n",
    "fR0 = 1e-5\n",
    "Omega_rc = None\n",
    "massloop = 30\n",
    "\n",
    "react = pyreact.ReACT()\n",
    "\n",
    "# Only compute the reaction up to z=2.5\n",
    "z_lin = np.array(z_lin)\n",
    "print(z_lin)\n",
    "z_react = z_lin[z_lin < 2.5]\n",
    "\n",
    "\n",
    "R, pofk_lin_MG_react,sigma_8_MG = react.compute_reaction(\n",
    "                                h, n_s, Omega_m, Omega_b, sigma_8, z_react, k_lin, pofk_lin_camb[0], model=mymodel, \n",
    "                                fR0=fR0, Omega_rc=Omega_rc, w=w0, wa=w_a, \n",
    "                                is_transfer=False, mass_loop=massloop,\n",
    "                                verbose=True)  "
   ]
  },
  {
   "cell_type": "markdown",
   "id": "6b476f2b",
   "metadata": {},
   "source": [
    "Now make some plots!"
   ]
  },
  {
   "cell_type": "code",
   "execution_count": 4,
   "id": "791a91d1",
   "metadata": {},
   "outputs": [
    {
     "data": {
      "text/plain": [
       "Text(0.5, 1.0, 'ReACT $f_{R_0}$ $=$ 1e-05')"
      ]
     },
     "execution_count": 4,
     "metadata": {},
     "output_type": "execute_result"
    },
    {
     "data": {
      "image/png": "[encoded data removed]",
      "text/plain": [
       "<Figure size 360x360 with 2 Axes>"
      ]
     },
     "metadata": {
      "needs_background": "light"
     },
     "output_type": "display_data"
    }
   ],
   "source": [
    "fig, ax = plt.subplots(2, 1, sharex=True, figsize=(5, 5))\n",
    "fig.subplots_adjust(hspace=0)\n",
    "\n",
    "ax[0].semilogx(k_lin, pofk_lin_MG_react[0]/pofk_lin_camb[0], label=\"z = 0\")\n",
    "ax[0].semilogx(k_lin, pofk_lin_MG_react[-1]/pofk_lin_camb[-1], label=\"z = 1\")\n",
    "\n",
    "ax[1].semilogx(k_lin, R[0])\n",
    "ax[1].semilogx(k_lin, R[-1])\n",
    "\n",
    "ax[0].legend(frameon=False)\n",
    "\n",
    "ax[0].set_ylabel(\"$P^{L}_{f(R)}/P^{L}_{\\Lambda \\mathrm{CDM}}$\")\n",
    "ax[1].set_ylabel(\"Reaction\")\n",
    "ax[1].set_xlabel(\"$k$ [$h$ Mpc$^{-1}$]\")\n",
    "\n",
    "ax[0].set_title(\"ReACT $f_{R_0}$\"+\" $=$ {}\".format(fR0))"
   ]
  },
  {
   "cell_type": "markdown",
   "id": "42128763",
   "metadata": {},
   "source": [
    "Now let's try to mimic $f(R)$ gravity with EFT, we know that in this case $\\alpha_K = \\alpha_T = 0$, $\\alpha_M = 2 \\alpha_B = \\frac{d f_R}{d\\ln{a}} \\frac{1}{1+f_R}$ and $\\kappa^2 M^2 = 1 + f_R$"
   ]
  },
  {
   "cell_type": "code",
   "execution_count": 5,
   "id": "f72b5980",
   "metadata": {},
   "outputs": [
    {
     "name": "stdout",
     "output_type": "stream",
     "text": [
      "alpha_m =  5.8063935489677384e-06\n"
     ]
    }
   ],
   "source": [
    "# Model selection and parameter (gr,f(r),dgp,quintessence,cpl,ds,eftppf,eftus,eftss)\n",
    "mymodelA = \"eftus\"\n",
    "mymodelB = \"eftss\"\n",
    "\n",
    "#Hu-Sawicki with n=1 \n",
    "c1_c2 = 6.*Omega_v/Omega_m\n",
    "c1_c22 = - (3.*(1.+4.*Omega_v/Omega_m))**2 * fR0\n",
    "#fR = -c1_c22/9. * 1./(pow(a, -3.)+2./3. c1_c2)**2\n",
    "a0 = 1.\n",
    "dfRda0 = -2./3.*c1_c22*pow(a0, -4.)/(pow(a0, -3)+2./3.*c1_c2)**3\n",
    "dfRdlna0 = dfRda0*a0\n",
    "\n",
    "alpha_M0 = 1./(1.+fR0)*dfRdlna0\n",
    "print('alpha_m = ', alpha_M0)\n",
    "\n",
    "\n",
    "extrapars = np.zeros(20)\n",
    "extrapars[0] = 0. #alpha_K0\n",
    "extrapars[2] = alpha_M0 #alpha_M0\n",
    "extrapars[1] = 0.5*extrapars[2] #alpha_B0"
   ]
  },
  {
   "cell_type": "code",
   "execution_count": 6,
   "id": "2ca73ebf",
   "metadata": {},
   "outputs": [],
   "source": [
    "RA, pofk_lin_EFT_react,sigma_8_EFT = react.compute_reaction_ext(\n",
    "                                h, n_s, Omega_m, Omega_b, sigma_8, z_react, k_lin, pofk_lin_camb[0], mymodelA, \n",
    "                                extrapars, \n",
    "                                is_transfer=False, mass_loop=massloop,\n",
    "                                verbose=True)  \n",
    "\n",
    "RB, pofk_lin_EFT_react,sigma_8_EFT = react.compute_reaction_ext(\n",
    "                                h, n_s, Omega_m, Omega_b, sigma_8, z_react, k_lin, pofk_lin_camb[0], mymodelB, \n",
    "                                extrapars, \n",
    "                                is_transfer=False, mass_loop=massloop,\n",
    "                                verbose=True)  "
   ]
  },
  {
   "cell_type": "code",
   "execution_count": 7,
   "id": "e4baaf01",
   "metadata": {},
   "outputs": [
    {
     "data": {
      "image/png": "[encoded data removed]",
      "text/plain": [
       "<Figure size 360x360 with 2 Axes>"
      ]
     },
     "metadata": {
      "needs_background": "light"
     },
     "output_type": "display_data"
    }
   ],
   "source": [
    "fig, ax = plt.subplots(2, 1, sharex=True, figsize=(5, 5))\n",
    "fig.subplots_adjust(hspace=0)\n",
    "ax[0].semilogx(k_lin, pofk_lin_EFT_react[0]/pofk_lin_camb[0], label=\"z = 0\")\n",
    "ax[0].semilogx(k_lin, pofk_lin_EFT_react[-1]/pofk_lin_camb[-1], label=\"z = 1\")\n",
    "ax[1].fill_between(k_lin, RA[0],RB[0])\n",
    "ax[1].fill_between(k_lin, RA[-1],RB[-1])\n",
    "ax[1].semilogx(k_lin, RA[0], color='tab:blue')\n",
    "ax[1].semilogx(k_lin, RB[0], color='tab:blue')\n",
    "ax[1].semilogx(k_lin, RA[-1], color='tab:orange')\n",
    "ax[1].semilogx(k_lin, RB[-1], color='tab:orange')\n",
    "ax[0].set_ylim(0.999, 1.001)\n",
    "ax[1].set_ylim(0.9995, 1.0005)\n",
    "ax[0].legend(frameon=False)\n",
    "ax[0].set_ylabel(\"$P^{L}_{EFT}/P^{L}_{\\Lambda \\mathrm{CDM}}$\")\n",
    "ax[1].set_ylabel(\"Reaction\")\n",
    "ax[1].set_xlabel(\"$k$ [$h$ Mpc$^{-1}$]\")\n",
    "ax[0].set_title(\"$\\\\alpha_K =$ {}, $\\\\alpha_B$ = {}e-6, $\\\\alpha_m$ = {}e-6\".format(round(extrapars[0], 2),round(extrapars[1]*10**6, 2), round(extrapars[2]*10**6, 2)))                                \n",
    "fig.tight_layout()"
   ]
  },
  {
   "cell_type": "markdown",
   "id": "40257802",
   "metadata": {},
   "source": [
    "# Get MG non-linear power spectrum"
   ]
  },
  {
   "cell_type": "markdown",
   "id": "2ca9a7bd",
   "metadata": {},
   "source": [
    "Hmcode needs pofk_lin at least 4 redshifts for correct interpolation!"
   ]
  },
  {
   "cell_type": "code",
   "execution_count": 8,
   "id": "24eb53a7",
   "metadata": {},
   "outputs": [],
   "source": [
    "import pyhmcode as hmcode"
   ]
  },
  {
   "cell_type": "code",
   "execution_count": 9,
   "id": "78c2ad88",
   "metadata": {},
   "outputs": [],
   "source": [
    "hmc = hmcode.Cosmology()\n",
    "\n",
    "# Set HMcode internal cosmological parameters\n",
    "hmc.om_m = Omega_c+Omega_b\n",
    "hmc.om_b = Omega_b\n",
    "hmc.om_v = 1.-(Omega_c+Omega_b)\n",
    "hmc.h = h\n",
    "hmc.ns = n_s\n",
    "hmc.sig8 = sigma_8_MG\n",
    "hmc.m_nu = m_nu\n",
    "\n",
    "# Set the halo model in HMcode\n",
    "# Options: HMcode2015, HMcode2016, HMcode2020\n",
    "hmod = hmcode.Halomodel(hmcode.HMcode2020, verbose=False)\n",
    "\n",
    "# Power spectrum calculation for f(R)\n",
    "hmc.set_linear_power_spectrum(k_lin, np.asarray(z_react), pofk_lin_MG_react)\n",
    "Pk_hm_fR = hmcode.calculate_nonlinear_power_spectrum(hmc, hmod, verbose=False)\n",
    "\n",
    "# Power spectrum calculation for GR\n",
    "hmc.sig8 = sigma_8\n",
    "hmc.set_linear_power_spectrum(k_lin, np.asarray(z_react), pofk_lin_camb)\n",
    "Pk_hm_GR = hmcode.calculate_nonlinear_power_spectrum(hmc, hmod, verbose=False)"
   ]
  },
  {
   "cell_type": "code",
   "execution_count": 10,
   "id": "d3ef37ce",
   "metadata": {},
   "outputs": [
    {
     "data": {
      "text/plain": [
       "Text(0.5, 1.0, '$f_{R_0}$ $=$ 1e-05')"
      ]
     },
     "execution_count": 10,
     "metadata": {},
     "output_type": "execute_result"
    },
    {
     "data": {
      "image/png": "[encoded data removed]",
      "text/plain": [
       "<Figure size 360x360 with 1 Axes>"
      ]
     },
     "metadata": {
      "needs_background": "light"
     },
     "output_type": "display_data"
    }
   ],
   "source": [
    "fig, ax = plt.subplots(figsize=(5, 5))\n",
    "fig.subplots_adjust(hspace=0)\n",
    "\n",
    "ax.semilogx(k_lin, Pk_hm_fR[0]*R[0]/Pk_hm_GR[0], label=\"z = 0\")\n",
    "ax.semilogx(k_lin, Pk_hm_fR[-1]*R[-1]/Pk_hm_GR[-1], label=\"z = 1\")\n",
    "\n",
    "\n",
    "ax.legend(frameon=False)\n",
    "\n",
    "ax.set_ylabel(\"$P^{NL}_{f(R)}/P^{NL}_{\\Lambda \\mathrm{CDM}}$\")\n",
    "ax.set_xlabel(\"$k$ [$h$ Mpc$^{-1}$]\")\n",
    "\n",
    "ax.set_title(\"$f_{R_0}$\"+\" $=$ {}\".format(fR0))\n"
   ]
  },
  {
   "cell_type": "code",
   "execution_count": null,
   "id": "bf8b35f7",
   "metadata": {},
   "outputs": [],
   "source": []
  }
 ],
 "metadata": {
  "kernelspec": {
   "display_name": "Python 3 (ipykernel)",
   "language": "python",
   "name": "python3"
  },
  "language_info": {
   "codemirror_mode": {
    "name": "ipython",
    "version": 3
   },
   "file_extension": ".py",
   "mimetype": "text/x-python",
   "name": "python",
   "nbconvert_exporter": "python",
   "pygments_lexer": "ipython3",
   "version": "3.8.10"
  }
 },
 "nbformat": 4,
 "nbformat_minor": 5
}
